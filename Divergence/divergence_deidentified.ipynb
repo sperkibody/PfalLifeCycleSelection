{
 "cells": [
  {
   "cell_type": "code",
   "execution_count": null,
   "metadata": {},
   "outputs": [],
   "source": [
    "import pandas as pd\n",
    "import numpy as np\n",
    "from Bio import pairwise2\n",
    "from Bio.pairwise2 import format_alignment\n",
    "from Bio import SeqIO\n",
    "from Bio.SeqRecord import SeqRecord\n",
    "import Bio.Data.CodonTable\n",
    "from Bio.Blast.Applications import NcbiblastpCommandline\n",
    "from Bio.Blast.Applications import NcbiblastnCommandline\n",
    "from Bio.Blast.Applications import NcbitblastxCommandline\n",
    "import io\n",
    "from Bio.Blast import NCBIXML\n",
    "from Bio.Seq import Seq\n",
    "import os\n"
   ]
  },
  {
   "cell_type": "code",
   "execution_count": null,
   "metadata": {},
   "outputs": [],
   "source": [
    "os.chdir(\"\") # add path to data directory "
   ]
  },
  {
   "cell_type": "code",
   "execution_count": null,
   "metadata": {},
   "outputs": [],
   "source": [
    "# ortholog dataframe including ortholog IDs and life stage labels\n",
    "path1 = 'lifestage_orthologs/'\n",
    "#df = pd.read_csv(path1 + 'orthologs_simplified.csv')\n",
    "df = pd.read_csv(path1 + 'breadth_orthologs_praefal_simplified.csv')\n",
    "df = pd.read_csv(path1 + 'breadth_orthologs_reichenowi_simplified.csv')\n",
    "# fasta with Pfal gene CDS sequences\n",
    "#input_file = open(path1 + \"pfal_CDS_extended.fasta\")\n",
    "input_file = open(path1 + \"breadth_pfal_p_CDS.fasta\")\n",
    "input_file = open(path1 + \"breadth_pfal_r_CDS.fasta\")\n",
    "pf = SeqIO.to_dict(SeqIO.parse(input_file, \"fasta\"))\n",
    "# fasta with Ppraefal gene CDS sequences\n",
    "#input_file = open(path1 + \"pprae_CDS.fasta\")\n",
    "input_file = open(path1 + \"breadth_praefal_CDS.fasta\")\n",
    "input_file = open(path1 + \"breadth_preich_CDS.fasta\")\n",
    "ppr = SeqIO.to_dict(SeqIO.parse(input_file, \"fasta\"))\n",
    "# standard DNA codon table\n",
    "codons = Bio.Data.CodonTable.standard_dna_table.forward_table\n",
    "codons['TAA'] = '*'\n",
    "codons['TGA'] = '*'\n",
    "codons['TAG'] = '*'"
   ]
  },
  {
   "cell_type": "code",
   "execution_count": 13,
   "metadata": {},
   "outputs": [],
   "source": [
    "# CALCULATE NUMBER OF SYN AND NONSYN SITES FOR EACH CODON \n",
    "bases = ['A', 'T', 'G', 'C']\n",
    "stop_codons = ['TAA', 'TAG', 'TGA']\n",
    "sites = {} # {codon: (ns, s, ffd)}\n",
    "for codon in codons: \n",
    "    if codon in stop_codons: \n",
    "        sites[codon] = [0, 0]\n",
    "        continue\n",
    "    s = 0 \n",
    "    ns = 0\n",
    "    aa = codons[codon]\n",
    "    for i in range(3):\n",
    "        ns_site = 0\n",
    "        s_site = 0\n",
    "        ffd = 0\n",
    "        alt = [j for j in bases if j != codon[i]]\n",
    "        #print(alt)\n",
    "        first = codon[:i]\n",
    "        last = codon[i+1:3]\n",
    "        for a in alt: \n",
    "            new = first + a + last\n",
    "            #print('new', new)\n",
    "            # calling change to stop codon NS even though technically frameshift (ignoring frameshift vs missense diff)\n",
    "            newAA = codons[new]\n",
    "            if (newAA != aa): ns_site += 1\n",
    "            else: s_site += 1\n",
    "        total_alt = ns_site + s_site\n",
    "        ns += ns_site / total_alt\n",
    "        s += s_site / total_alt\n",
    "        # check if FFD\n",
    "        if (s_site == 3):\n",
    "            ffd += s_site / total_alt \n",
    "\n",
    "    sites[codon] = [ns, s, ffd]"
   ]
  },
  {
   "cell_type": "code",
   "execution_count": 22,
   "metadata": {},
   "outputs": [
    {
     "data": {
      "text/plain": [
       "<Axes: xlabel='score_adj', ylabel='Count'>"
      ]
     },
     "execution_count": 22,
     "metadata": {},
     "output_type": "execute_result"
    },
    {
     "data": {
      "image/png": "[encoded data removed]",
      "text/plain": [
       "<Figure size 640x480 with 1 Axes>"
      ]
     },
     "metadata": {},
     "output_type": "display_data"
    }
   ],
   "source": [
    "# approach: calcdiv on a per-gene basis\n",
    "# initial function: get alignment quality for pairs \n",
    "def calcdiv(gene1, gene2):\n",
    "    #print(gene1, gene2)\n",
    "    ns = 0\n",
    "    s = 0\n",
    "    gene1 = 'cds_' + gene1\n",
    "    gene2 = 'cds_' + gene2\n",
    "    # perform local / global alignment of gene1 and gene2 \n",
    "    s1 = str(pf[gene1].seq.translate())\n",
    "    s1 = s1[s1.find('M'):s1.find('*')]\n",
    "    s2 = str(ppr[gene2].seq.translate())\n",
    "    s2 = s2[s2.find('M'):s2.find('*')]\n",
    "    if len(s1) < 70 or len(s2) < 70: return(0)\n",
    "    alignments = pairwise2.align.globalms(s1, s2, 5, -2, -3, -.5)\n",
    "    #score_adj = (float(getattr(alignments[0], 'score'))) / (int(getattr(alignments[0], 'end')) - int(getattr(alignments[0], 'start')))\n",
    "    score_adj = (float(getattr(alignments[0], 'score'))) / (np.min([len(s1), len(s2)]))\n",
    "    return(score_adj)\n",
    "    #return([ns, s])\n",
    "\n",
    "scores = df.apply(lambda x: calcdiv(x['Pfal_gene'], x['Preich_gene']), axis=1)\n",
    "df['score_adj'] = scores\n",
    "df\n",
    "import seaborn as sns\n",
    "sns.histplot(df['score_adj'])\n"
   ]
  },
  {
   "cell_type": "code",
   "execution_count": 23,
   "metadata": {},
   "outputs": [
    {
     "data": {
      "text/html": [
       "<div>\n",
       "<style scoped>\n",
       "    .dataframe tbody tr th:only-of-type {\n",
       "        vertical-align: middle;\n",
       "    }\n",
       "\n",
       "    .dataframe tbody tr th {\n",
       "        vertical-align: top;\n",
       "    }\n",
       "\n",
       "    .dataframe thead th {\n",
       "        text-align: right;\n",
       "    }\n",
       "</style>\n",
       "<table border=\"1\" class=\"dataframe\">\n",
       "  <thead>\n",
       "    <tr style=\"text-align: right;\">\n",
       "      <th></th>\n",
       "      <th>Gene ID</th>\n",
       "      <th>Pfal_gene</th>\n",
       "      <th>Preich_gene</th>\n",
       "      <th>score_adj</th>\n",
       "    </tr>\n",
       "  </thead>\n",
       "  <tbody>\n",
       "  </tbody>\n",
       "</table>\n",
       "</div>"
      ],
      "text/plain": [
       "Empty DataFrame\n",
       "Columns: [Gene ID, Pfal_gene, Preich_gene, score_adj]\n",
       "Index: []"
      ]
     },
     "execution_count": 23,
     "metadata": {},
     "output_type": "execute_result"
    }
   ],
   "source": [
    "# examine alignments with mid-range scores\n",
    "mid = df[np.logical_and(df['score_adj'] < 4, df['score_adj'] >2.7)]\n",
    "mid"
   ]
  },
  {
   "cell_type": "code",
   "execution_count": 24,
   "metadata": {},
   "outputs": [
    {
     "data": {
      "text/html": [
       "<div>\n",
       "<style scoped>\n",
       "    .dataframe tbody tr th:only-of-type {\n",
       "        vertical-align: middle;\n",
       "    }\n",
       "\n",
       "    .dataframe tbody tr th {\n",
       "        vertical-align: top;\n",
       "    }\n",
       "\n",
       "    .dataframe thead th {\n",
       "        text-align: right;\n",
       "    }\n",
       "</style>\n",
       "<table border=\"1\" class=\"dataframe\">\n",
       "  <thead>\n",
       "    <tr style=\"text-align: right;\">\n",
       "      <th></th>\n",
       "      <th>Gene ID</th>\n",
       "      <th>Pfal_gene</th>\n",
       "      <th>Preich_gene</th>\n",
       "      <th>score_adj</th>\n",
       "    </tr>\n",
       "  </thead>\n",
       "  <tbody>\n",
       "  </tbody>\n",
       "</table>\n",
       "</div>"
      ],
      "text/plain": [
       "Empty DataFrame\n",
       "Columns: [Gene ID, Pfal_gene, Preich_gene, score_adj]\n",
       "Index: []"
      ]
     },
     "execution_count": 24,
     "metadata": {},
     "output_type": "execute_result"
    }
   ],
   "source": [
    "# optionally calculate and show alignment characteristics\n",
    "def calcdiv(gene1, gene2):\n",
    "    #print(gene1, gene2)\n",
    "    ns = 0\n",
    "    s = 0\n",
    "    gene1 = 'cds_' + gene1\n",
    "    gene2 = 'cds_' + gene2\n",
    "    # perform local / global alignment of gene1 and gene2 \n",
    "    s1 = str(pf[gene1].seq.translate())\n",
    "    s1 = s1[s1.find('M'):s1.find('*')]\n",
    "    s2 = str(ppr[gene2].seq.translate())\n",
    "    s2 = s2[s2.find('M'):s2.find('*')]\n",
    "    if len(s1) < 70 or len(s2) < 70: return(0)\n",
    "    alignments = pairwise2.align.globalms(s1, s2, 5, -2, -3, -.5)\n",
    "    #score_adj = (float(getattr(alignments[0], 'score'))) / (int(getattr(alignments[0], 'end')) - int(getattr(alignments[0], 'start')))\n",
    "    score_adj = (float(getattr(alignments[0], 'score'))) / (np.min([len(s1), len(s2)]))\n",
    "    print(score_adj)\n",
    "    print(format_alignment(*alignments[0]))\n",
    "    return(score_adj)\n",
    "\n",
    "mid.iloc[1:20,:].apply(lambda x: calcdiv(x['Pfal_gene'], x['Preich_gene']), axis=1)"
   ]
  },
  {
   "cell_type": "code",
   "execution_count": 28,
   "metadata": {},
   "outputs": [
    {
     "name": "stdout",
     "output_type": "stream",
     "text": [
      "Keeping only best P. reichenowi hits for each P. falciparum gene: \n"
     ]
    }
   ],
   "source": [
    "# filter out scores below minimum for quality \n",
    "min_score = 3.5\n",
    "# for each Orthologous pair, keep alignment with best score in the case of multiple Praefal orthologs \n",
    "df = df[df['score_adj'] > min_score]\n",
    "besthits = df.sort_values('score_adj', ascending=False).drop_duplicates(['Pfal_gene'])\n",
    "print('Keeping only best P. reichenowi hits for each P. falciparum gene: ')"
   ]
  },
  {
   "cell_type": "code",
   "execution_count": 29,
   "metadata": {},
   "outputs": [
    {
     "data": {
      "text/plain": [
       "<Axes: xlabel='score_adj', ylabel='Count'>"
      ]
     },
     "execution_count": 29,
     "metadata": {},
     "output_type": "execute_result"
    },
    {
     "data": {
      "image/png": "[encoded data removed]",
      "text/plain": [
       "<Figure size 640x480 with 1 Axes>"
      ]
     },
     "metadata": {},
     "output_type": "display_data"
    }
   ],
   "source": [
    "sns.histplot(besthits['score_adj'])"
   ]
  },
  {
   "cell_type": "code",
   "execution_count": null,
   "metadata": {},
   "outputs": [],
   "source": [
    "# calculate divergence (via NS, S, and FFD changes and sites) for each best alignment\n",
    "def calcdiv(gene1, gene2):\n",
    "    #print(gene1, gene2)\n",
    "    ns = 0\n",
    "    s = 0\n",
    "    ffd = 0\n",
    "    ns_sites = 0\n",
    "    s_sites = 0 \n",
    "    ffd_sites = 0\n",
    "    gene1 = 'cds_' + gene1\n",
    "    gene2 = 'cds_' + gene2\n",
    "    # perform local / global alignment of gene1 and gene2 \n",
    "    ntA = pf[gene1].seq\n",
    "    ntB = ppr[gene2].seq\n",
    "    s1 = str(ntA.translate())\n",
    "    # shift nt seqs to start codons -- should not need to crop to end \n",
    "    ntA = str(ntA)[(s1.find('M')*3):]\n",
    "    s1 = s1[s1.find('M'):s1.find('*')]\n",
    "    s2 = str(ntB.translate())\n",
    "    ntB = str(ntB)[(s2.find('M')*3):]\n",
    "    s2 = s2[s2.find('M'):s2.find('*')]\n",
    "    alignments = pairwise2.align.globalms(s1, s2, 5, -2, -3, -.5)\n",
    "    #print(format_alignment(*alignments[0]))\n",
    "    seqA = getattr(alignments[0], 'seqA')\n",
    "    seqB = getattr(alignments[0], 'seqB')\n",
    "    #print(ntA)\n",
    "    #print(ntB)\n",
    "    # count AA (NS) and S differences \n",
    "    for i in range(len(seqA)):\n",
    "        if seqA[i]=='-' or seqB[i]=='-': continue\n",
    "        ns_i = seqA[i] != seqB[i] # increment ns with AA diff \n",
    "        ns += ns_i\n",
    "        # calculate codon location in nt seq -- subtract gaps \n",
    "        gapA = seqA[0:i].count('-')\n",
    "        gapB = seqB[0:i].count('-')\n",
    "        #icodonA = np.floor_divide(i-gapA, 3)\n",
    "        icodonA = (i-gapA)*3\n",
    "        icodonB = (i-gapB)*3\n",
    "        cA = ntA[icodonA:(icodonA+3)]\n",
    "        cB = ntB[icodonB:(icodonB+3)]\n",
    "        # count nt mismatches and increment s count\n",
    "        if cA != cB: s += (sum(c1!=c2 for c1,c2 in zip(cA,cB)) - ns_i)\n",
    "        # count FFD site changes if FFD sites > 0 \n",
    "        if sites[cA][2]:\n",
    "            # FFD sites by definition only at 3rd nt position of codon \n",
    "            if cA != cB: ffd += (cA[2] != cB[2])\n",
    "        # getting site counts from P.falciparum \n",
    "        ns_sites += sites[cA][0]\n",
    "        s_sites += sites[cA][1]\n",
    "        ffd_sites += sites[cA][2]\n",
    "    return([ns, s, ns_sites, s_sites, ffd, ffd_sites])\n",
    "\n",
    "divs = besthits.apply(lambda x: calcdiv(x['Pfal_gene'], x['Preich_gene']), axis=1)\n",
    "besthits['ns'] = [i[0] for i in divs]\n",
    "besthits['s'] = [i[1] for i in divs]\n",
    "besthits['ns_sites'] = [i[2] for i in divs]\n",
    "besthits['s_sites'] = [i[3] for i in divs]\n",
    "besthits['ffd'] = [i[4] for i in divs]\n",
    "besthits['ffd_sites'] = [i[5] for i in divs]"
   ]
  },
  {
   "cell_type": "code",
   "execution_count": null,
   "metadata": {},
   "outputs": [],
   "source": [
    "# save to divergence file of choice \n",
    "besthits.to_csv('breadth_divergence_by_gene_preich.csv')"
   ]
  }
 ],
 "metadata": {
  "kernelspec": {
   "display_name": "base",
   "language": "python",
   "name": "python3"
  },
  "language_info": {
   "codemirror_mode": {
    "name": "ipython",
    "version": 3
   },
   "file_extension": ".py",
   "mimetype": "text/x-python",
   "name": "python",
   "nbconvert_exporter": "python",
   "pygments_lexer": "ipython3",
   "version": "3.9.16"
  }
 },
 "nbformat": 4,
 "nbformat_minor": 2
}
