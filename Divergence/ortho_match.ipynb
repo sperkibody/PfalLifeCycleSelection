{
 "cells": [
  {
   "cell_type": "code",
   "execution_count": 2,
   "metadata": {},
   "outputs": [],
   "source": [
    "import pandas as pd\n",
    "import numpy as np\n",
    "import os"
   ]
  },
  {
   "cell_type": "markdown",
   "metadata": {},
   "source": [
    "This file enables matching of P. falciparum GENE IDs with orthologous P. reichenowi or P. praefalciparum ortholog GENE IDs based on ortholog groups pulled from PlasmoDB/OrthoMCL (in files referenced below). Files are then split into appropriately sized txt files to input into PlasmoDB. The search strategy (as described below) will allow you to pull CDS fasta files for each gene. Resulting files can be renamed and used as input for divergence.py, which will align orthologs, keeping the best alignment and tallying NS, S, and FFD sites and sequence changes corresponding to each alignment. "
   ]
  },
  {
   "cell_type": "code",
   "execution_count": null,
   "metadata": {},
   "outputs": [],
   "source": [
    "os.chdir('') # input path to data directory "
   ]
  },
  {
   "cell_type": "code",
   "execution_count": 5,
   "metadata": {},
   "outputs": [
    {
     "data": {
      "text/html": [
       "<div>\n",
       "<style scoped>\n",
       "    .dataframe tbody tr th:only-of-type {\n",
       "        vertical-align: middle;\n",
       "    }\n",
       "\n",
       "    .dataframe tbody tr th {\n",
       "        vertical-align: top;\n",
       "    }\n",
       "\n",
       "    .dataframe thead th {\n",
       "        text-align: right;\n",
       "    }\n",
       "</style>\n",
       "<table border=\"1\" class=\"dataframe\">\n",
       "  <thead>\n",
       "    <tr style=\"text-align: right;\">\n",
       "      <th></th>\n",
       "      <th>Gene ID</th>\n",
       "      <th>source_id</th>\n",
       "      <th>Organism</th>\n",
       "      <th>Ortholog count</th>\n",
       "      <th>Paralog count</th>\n",
       "      <th>Ortholog Group</th>\n",
       "      <th>Genomic Location (Gene)</th>\n",
       "    </tr>\n",
       "  </thead>\n",
       "  <tbody>\n",
       "    <tr>\n",
       "      <th>0</th>\n",
       "      <td>PF3D7_0100100</td>\n",
       "      <td>PF3D7_0100100.1</td>\n",
       "      <td>Plasmodium falciparum 3D7</td>\n",
       "      <td>2211</td>\n",
       "      <td>65</td>\n",
       "      <td>OG6_104345</td>\n",
       "      <td>Pf3D7_01_v3:29,510..37,126(+)</td>\n",
       "    </tr>\n",
       "    <tr>\n",
       "      <th>1</th>\n",
       "      <td>PF3D7_0100200</td>\n",
       "      <td>PF3D7_0100200.1</td>\n",
       "      <td>Plasmodium falciparum 3D7</td>\n",
       "      <td>4601</td>\n",
       "      <td>156</td>\n",
       "      <td>OG6_100719</td>\n",
       "      <td>Pf3D7_01_v3:38,982..40,207(-)</td>\n",
       "    </tr>\n",
       "    <tr>\n",
       "      <th>2</th>\n",
       "      <td>PF3D7_0100300</td>\n",
       "      <td>PF3D7_0100300.1</td>\n",
       "      <td>Plasmodium falciparum 3D7</td>\n",
       "      <td>2211</td>\n",
       "      <td>65</td>\n",
       "      <td>OG6_104345</td>\n",
       "      <td>Pf3D7_01_v3:42,367..46,507(-)</td>\n",
       "    </tr>\n",
       "    <tr>\n",
       "      <th>3</th>\n",
       "      <td>PF3D7_0100400</td>\n",
       "      <td>PF3D7_0100400.1</td>\n",
       "      <td>Plasmodium falciparum 3D7</td>\n",
       "      <td>4601</td>\n",
       "      <td>156</td>\n",
       "      <td>OG6_100719</td>\n",
       "      <td>Pf3D7_01_v3:50,363..51,636(+)</td>\n",
       "    </tr>\n",
       "    <tr>\n",
       "      <th>4</th>\n",
       "      <td>PF3D7_0100600</td>\n",
       "      <td>PF3D7_0100600.1</td>\n",
       "      <td>Plasmodium falciparum 3D7</td>\n",
       "      <td>4601</td>\n",
       "      <td>156</td>\n",
       "      <td>OG6_100719</td>\n",
       "      <td>Pf3D7_01_v3:53,778..55,006(-)</td>\n",
       "    </tr>\n",
       "    <tr>\n",
       "      <th>...</th>\n",
       "      <td>...</td>\n",
       "      <td>...</td>\n",
       "      <td>...</td>\n",
       "      <td>...</td>\n",
       "      <td>...</td>\n",
       "      <td>...</td>\n",
       "      <td>...</td>\n",
       "    </tr>\n",
       "    <tr>\n",
       "      <th>11083</th>\n",
       "      <td>PRCDC_API04700</td>\n",
       "      <td>PRCDC_API04700.1</td>\n",
       "      <td>Plasmodium reichenowi CDC</td>\n",
       "      <td>18</td>\n",
       "      <td>0</td>\n",
       "      <td>OG6_532771</td>\n",
       "      <td>PrCDC_API_v3:22,413..22,568(-)</td>\n",
       "    </tr>\n",
       "    <tr>\n",
       "      <th>11084</th>\n",
       "      <td>PRCDC_API04800</td>\n",
       "      <td>PRCDC_API04800.1</td>\n",
       "      <td>Plasmodium reichenowi CDC</td>\n",
       "      <td>45</td>\n",
       "      <td>0</td>\n",
       "      <td>OG6_104113</td>\n",
       "      <td>PrCDC_API_v3:22,575..23,987(-)</td>\n",
       "    </tr>\n",
       "    <tr>\n",
       "      <th>11085</th>\n",
       "      <td>PRCDC_MIT01400</td>\n",
       "      <td>PRCDC_MIT01400.1</td>\n",
       "      <td>Plasmodium reichenowi CDC</td>\n",
       "      <td>54</td>\n",
       "      <td>0</td>\n",
       "      <td>OG6_104028</td>\n",
       "      <td>PrCDC_MIT_v3:732..1,481(-)</td>\n",
       "    </tr>\n",
       "    <tr>\n",
       "      <th>11086</th>\n",
       "      <td>PRCDC_MIT02100</td>\n",
       "      <td>PRCDC_MIT02100.1</td>\n",
       "      <td>Plasmodium reichenowi CDC</td>\n",
       "      <td>48</td>\n",
       "      <td>0</td>\n",
       "      <td>OG6_102770</td>\n",
       "      <td>PrCDC_MIT_v3:1,943..3,469(+)</td>\n",
       "    </tr>\n",
       "    <tr>\n",
       "      <th>11087</th>\n",
       "      <td>PRCDC_MIT02200</td>\n",
       "      <td>PRCDC_MIT02200.1</td>\n",
       "      <td>Plasmodium reichenowi CDC</td>\n",
       "      <td>46</td>\n",
       "      <td>0</td>\n",
       "      <td>OG6_102198</td>\n",
       "      <td>PrCDC_MIT_v3:3,490..4,620(+)</td>\n",
       "    </tr>\n",
       "  </tbody>\n",
       "</table>\n",
       "<p>11088 rows × 7 columns</p>\n",
       "</div>"
      ],
      "text/plain": [
       "              Gene ID         source_id                   Organism  \\\n",
       "0       PF3D7_0100100   PF3D7_0100100.1  Plasmodium falciparum 3D7   \n",
       "1       PF3D7_0100200   PF3D7_0100200.1  Plasmodium falciparum 3D7   \n",
       "2       PF3D7_0100300   PF3D7_0100300.1  Plasmodium falciparum 3D7   \n",
       "3       PF3D7_0100400   PF3D7_0100400.1  Plasmodium falciparum 3D7   \n",
       "4       PF3D7_0100600   PF3D7_0100600.1  Plasmodium falciparum 3D7   \n",
       "...               ...               ...                        ...   \n",
       "11083  PRCDC_API04700  PRCDC_API04700.1  Plasmodium reichenowi CDC   \n",
       "11084  PRCDC_API04800  PRCDC_API04800.1  Plasmodium reichenowi CDC   \n",
       "11085  PRCDC_MIT01400  PRCDC_MIT01400.1  Plasmodium reichenowi CDC   \n",
       "11086  PRCDC_MIT02100  PRCDC_MIT02100.1  Plasmodium reichenowi CDC   \n",
       "11087  PRCDC_MIT02200  PRCDC_MIT02200.1  Plasmodium reichenowi CDC   \n",
       "\n",
       "       Ortholog count  Paralog count Ortholog Group  \\\n",
       "0                2211             65     OG6_104345   \n",
       "1                4601            156     OG6_100719   \n",
       "2                2211             65     OG6_104345   \n",
       "3                4601            156     OG6_100719   \n",
       "4                4601            156     OG6_100719   \n",
       "...               ...            ...            ...   \n",
       "11083              18              0     OG6_532771   \n",
       "11084              45              0     OG6_104113   \n",
       "11085              54              0     OG6_104028   \n",
       "11086              48              0     OG6_102770   \n",
       "11087              46              0     OG6_102198   \n",
       "\n",
       "              Genomic Location (Gene)  \n",
       "0       Pf3D7_01_v3:29,510..37,126(+)  \n",
       "1       Pf3D7_01_v3:38,982..40,207(-)  \n",
       "2       Pf3D7_01_v3:42,367..46,507(-)  \n",
       "3       Pf3D7_01_v3:50,363..51,636(+)  \n",
       "4       Pf3D7_01_v3:53,778..55,006(-)  \n",
       "...                               ...  \n",
       "11083  PrCDC_API_v3:22,413..22,568(-)  \n",
       "11084  PrCDC_API_v3:22,575..23,987(-)  \n",
       "11085      PrCDC_MIT_v3:732..1,481(-)  \n",
       "11086    PrCDC_MIT_v3:1,943..3,469(+)  \n",
       "11087    PrCDC_MIT_v3:3,490..4,620(+)  \n",
       "\n",
       "[11088 rows x 7 columns]"
      ]
     },
     "execution_count": 5,
     "metadata": {},
     "output_type": "execute_result"
    }
   ],
   "source": [
    "#orthos = pd.read_csv('Pfal_Ppraefal_orthos.csv') # for comparison with P. praefalciparum\n",
    "orthos = pd.read_csv('Pfal_Preichenowi_orthos.csv') # for comparison with P. reichenowi\n",
    "orthos\n",
    "# orthos downloaded from plasmodb ortholog search of Pf3D7 and ppraefal G01 OR pRiechenowi reference "
   ]
  },
  {
   "cell_type": "code",
   "execution_count": null,
   "metadata": {},
   "outputs": [],
   "source": [
    "# input path to gene lists of interest--e.g. genes detected in the assay with initial breadth estimates \n",
    "# (these estimates are overwritten / corrected later once DE filter is included, but for now, they should include\n",
    "# all genes in the assay to pipe into dN/dS analysis)  \n",
    "os.chdir('') # insert path to gene set of interest \n",
    "stages = ['gene_sets_assay/' + str(i) for i in range(1,7)]\n",
    "stage_genes = []\n",
    "for stage in stages: \n",
    "  # read in stage-specific gene set\n",
    "  fname = stage + '.txt'\n",
    "  gene_set = np.loadtxt(fname, dtype = str)\n",
    "  stage_genes.append(gene_set)\n",
    "\n",
    "stagedf = pd.DataFrame(stage_genes).T\n",
    "#stagedf.columns = ['ookinete', 'gametocyte', 'sporozoite', 'schizont', 'trophozoite', 'ring']\n",
    "stagedf.columns = [str(i) for i in range(1,7)]\n",
    "stagedf = pd.melt(stagedf)\n",
    "stagedf = stagedf[~pd.isnull(stagedf['value'])]"
   ]
  },
  {
   "cell_type": "code",
   "execution_count": null,
   "metadata": {},
   "outputs": [],
   "source": [
    "stagedf = stagedf.merge(orthos, left_on='value', right_on='Gene ID')"
   ]
  },
  {
   "cell_type": "code",
   "execution_count": null,
   "metadata": {},
   "outputs": [],
   "source": [
    "#ortho_prae = orthos[orthos['Organism']=='Plasmodium praefalciparum strain G01']\n",
    "ortho_prae = orthos[orthos['Organism']=='Plasmodium reichenowi CDC']\n",
    "ortho_prae = ortho_prae[['Ortholog Group', 'source_id']]\n",
    "stagedf = stagedf.merge(ortho_prae, left_on='Ortholog Group', right_on='Ortholog Group')\n",
    "stagedf.columns"
   ]
  },
  {
   "cell_type": "code",
   "execution_count": 17,
   "metadata": {},
   "outputs": [],
   "source": [
    "#stagedf = stagedf.rename(columns={\"source_id_x\":\"Pfal_gene\", \"source_id_y\":\"Ppraefal_gene\", \"variable\":\"stage\"}).drop(columns=([\"Ortholog count\", \"Paralog count\", \"Organism\", \"Genomic Location (Gene)\", \"value\", \"Ortholog Group\"]))\n",
    "stagedf = stagedf.rename(columns={\"source_id_x\":\"Pfal_gene\", \"source_id_y\":\"Preich_gene\", \"variable\":\"stage\"}).drop(columns=([\"Ortholog count\", \"Paralog count\", \"Organism\", \"Genomic Location (Gene)\", \"Ortholog Group\", \"value\"]))"
   ]
  },
  {
   "cell_type": "code",
   "execution_count": null,
   "metadata": {},
   "outputs": [],
   "source": [
    "stagedf.drop_duplicates(inplace=True)\n",
    "stagedf # calling ID variable \"stage\" even though it may be e.g. breadth"
   ]
  },
  {
   "cell_type": "code",
   "execution_count": null,
   "metadata": {},
   "outputs": [],
   "source": [
    "stagedf['Pfal_gene'].nunique()\n",
    "stagedf['Preich_gene'].nunique()"
   ]
  },
  {
   "cell_type": "code",
   "execution_count": null,
   "metadata": {},
   "outputs": [],
   "source": [
    "#write to csv\n",
    "stagedf.to_csv(\"breadth_orthologs_reichenowi_simplified.csv\", index=None)\n",
    "#stagedf.to_csv(\"breadth_orthologs_praefal_simplified.csv\", index=None)"
   ]
  },
  {
   "cell_type": "code",
   "execution_count": null,
   "metadata": {},
   "outputs": [],
   "source": [
    "# extract gene names for each\n",
    "!cut -d',' -f3 breadth_orthologs_reichenowi_simplified.csv | sort | uniq > breadth_pfal_r_ortho.txt\n",
    "!cut -d',' -f4 breadth_orthologs_reichenowi_simplified.csv | sort | uniq > breadth_preich_ortho.txt"
   ]
  },
  {
   "cell_type": "code",
   "execution_count": null,
   "metadata": {},
   "outputs": [],
   "source": [
    "!wc -l breadth_preich_ortho.txt\n",
    "!sort breadth_preich_ortho.txt | uniq | wc -l"
   ]
  },
  {
   "cell_type": "markdown",
   "metadata": {},
   "source": [
    "Orthologs can be entered into PlasmoDB search of 3D7 and P. praefalciparum G01 reference genomes, respectively. ('Identify Genes based on List of IDs' option after clicking dataset). \n",
    "Results --> Download --> FASTA --> Spliced Genomic Region --> CDS"
   ]
  },
  {
   "cell_type": "markdown",
   "metadata": {},
   "source": [
    "PlasmoDB: Searches --> Genes --> Annotation, curation and Identifiers --> List of IDs --> enter .txt files and download output as documented above. \n",
    "Breadth gene sets too long for PlasmoDB download: split into 3 (below). \n",
    "Note that for searches above 2000 genes in length, gene lists may need to be split into multiple entries"
   ]
  },
  {
   "cell_type": "code",
   "execution_count": null,
   "metadata": {},
   "outputs": [],
   "source": [
    "# split into smaller files for PlasmoDB search (limited gene list size allowed)\n",
    "# preich \n",
    "!head -2000 breadth_preich_ortho.txt > breadth_preich_ortho_1.txt\n",
    "!head -4000 breadth_preich_ortho.txt | tail -2000 > breadth_preich_ortho_2.txt\n",
    "!tail -1401 breadth_preich_ortho.txt > breadth_preich_ortho_3.txt\n",
    "\n",
    "# pfal w/ preich matches\n",
    "!head -2000 breadth_pfal_r_ortho.txt > breadth_pfal_r_ortho_1.txt\n",
    "!head -4000 breadth_pfal_r_ortho.txt | tail -2000 > breadth_pfal_r_ortho_2.txt\n",
    "!tail -1004 breadth_pfal_r_ortho.txt > breadth_pfal_r_ortho_3.txt"
   ]
  }
 ],
 "metadata": {
  "kernelspec": {
   "display_name": "base",
   "language": "python",
   "name": "python3"
  },
  "language_info": {
   "codemirror_mode": {
    "name": "ipython",
    "version": 3
   },
   "file_extension": ".py",
   "mimetype": "text/x-python",
   "name": "python",
   "nbconvert_exporter": "python",
   "pygments_lexer": "ipython3",
   "version": "3.9.16"
  }
 },
 "nbformat": 4,
 "nbformat_minor": 2
}
