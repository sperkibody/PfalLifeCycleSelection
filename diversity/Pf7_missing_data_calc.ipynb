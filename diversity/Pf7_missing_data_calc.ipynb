{
 "cells": [
  {
   "cell_type": "markdown",
   "id": "9f2b805e",
   "metadata": {
    "id": "9f2b805e"
   },
   "source": [
    "## Setup"
   ]
  },
  {
   "cell_type": "code",
   "execution_count": 1,
   "id": "46cdd0f1",
   "metadata": {
    "colab": {
     "base_uri": "https://localhost:8080/"
    },
    "id": "46cdd0f1",
    "outputId": "716ab9e2-f8c9-41d7-b1de-ba9a9edfde3b"
   },
   "outputs": [],
   "source": [
    "#!pip install -q --no-warn-conflicts malariagen_data -U"
   ]
  },
  {
   "cell_type": "markdown",
   "id": "571acbfe",
   "metadata": {},
   "source": [
    "This file accesses MalariaGen Pf7 data QC pass data at the variant level to calculate site missingness across all genes in a specified gene set. It accesses Pf7 data stored via the cloud, which requires registration on the malariagen website and subsequent gcloud logins during each session. "
   ]
  },
  {
   "cell_type": "code",
   "execution_count": null,
   "id": "d22e67b0",
   "metadata": {},
   "outputs": [],
   "source": [
    "!gcloud auth application-default login"
   ]
  },
  {
   "cell_type": "code",
   "execution_count": null,
   "id": "efc51f37",
   "metadata": {
    "colab": {
     "base_uri": "https://localhost:8080/",
     "height": 409
    },
    "id": "efc51f37",
    "outputId": "4ff39d12-1c87-4954-c862-bbec54d75d23"
   },
   "outputs": [],
   "source": [
    "import numpy as np\n",
    "import dask\n",
    "import dask.array as da\n",
    "from dask.diagnostics.progress import ProgressBar\n",
    "import allel\n",
    "# silence some warnings\n",
    "dask.config.set(**{'array.slicing.split_large_chunks': False})\n",
    "import malariagen_data\n",
    "import collections\n",
    "import pandas as pd\n",
    "import xarray as xr\n",
    "import os\n",
    "\n",
    "pf7 = malariagen_data.Pf7()\n",
    "pf7_metadata = pf7.sample_metadata()\n",
    "#pf7_metadata = pd.read_csv('Pf7_samples.txt', sep = '\\t')\n",
    "variant_dataset = pf7.variant_calls()\n",
    "genome_features0 = pf7.genome_features()\n",
    "# EXTENDED VARIANT DATA -- variant_ANN_Annotation_Impact\n",
    "extended_variant_dataset = pf7.variant_calls(extended=True)\n",
    "path_to_gene_set = '' # insert path to desired gene set \n",
    "os.chdir(path_to_gene_set)\n",
    "fn_out = 'variant_pass_rates.csv' # insert output name for tmp file with pass rates for merging with site counts"
   ]
  },
  {
   "cell_type": "code",
   "execution_count": null,
   "id": "8dc6126c",
   "metadata": {},
   "outputs": [],
   "source": [
    "def pass_rate(stage):\n",
    "  # read in stage-specific gene set\n",
    "  fname = stage + '.txt'\n",
    "  gene_set = np.loadtxt(fname, dtype = str)\n",
    "  print(stage, len(gene_set))\n",
    "  # mark which genes are in gene set from BOOL\n",
    "  in_set = [(i in gene_set) for i in genome_features0['ID']]\n",
    "  # subset gene set features from list of all 3D7 genome features\n",
    "  genome_features = genome_features0[in_set]\n",
    "  contigs = genome_features['contig']\n",
    "  start = genome_features['start']\n",
    "  end = genome_features['end']\n",
    "\n",
    "  # APPROACH: PREPARE ALL MASKS AND COMBINE THEM TOGETHER AT END\n",
    "  # load in filter pass flags\n",
    "  fpass = variant_dataset['variant_filter_pass'].data\n",
    "  # variant pass dataset --> keep SNPs only (same for all)\n",
    "  # first: snp mask (filter array for SNPs only)\n",
    "  snp_mask = variant_dataset['variant_is_snp'].data\n",
    "\n",
    "  # coding mask: ensure variant falls in coding region\n",
    "  coding_mask = variant_dataset['variant_CDS'].data\n",
    "\n",
    "  pass_rates = []\n",
    "  # iterate through all gene coordinates pulled from reference genome\n",
    "  for i, j, k in zip(contigs, start, end):\n",
    "    # mask those on same contig\n",
    "    contig_mask = variant_dataset['variant_chrom'].data == i\n",
    "    # mask for position\n",
    "    pos_mask = da.isin(variant_dataset['variant_position'].data, np.arange(j, k))\n",
    "    # combine masks\n",
    "    gene_mask = da.logical_and(contig_mask, pos_mask)\n",
    "    gene_mask_coding = da.logical_and(gene_mask, coding_mask)\n",
    "    mask_final = da.logical_and(snp_mask, gene_mask_coding)\n",
    "    fpass_gene = fpass[mask_final.compute()]\n",
    "    pass_rate0 = da.sum(fpass_gene).compute()/fpass_gene.size\n",
    "    pass_rates.append(pass_rate0)\n",
    "    #print(pass_rate0)\n",
    "  return(pass_rates)"
   ]
  },
  {
   "cell_type": "code",
   "execution_count": null,
   "id": "d2daf849",
   "metadata": {},
   "outputs": [],
   "source": [
    "# calculate pass rates for desired gene set \n",
    "rates_all = pass_rate(\"min_expression_2.5\")\n",
    "\n",
    "# save all to csv \n",
    "rdf = pd.DataFrame(rates_all).T\n",
    "rdf.columns = ['value'] # variant pass rate coded as value \n",
    "rdf.head()\n",
    "rdf.to_csv(fn_out)"
   ]
  },
  {
   "cell_type": "code",
   "execution_count": null,
   "id": "LCeO88fqS39X",
   "metadata": {
    "colab": {
     "base_uri": "https://localhost:8080/",
     "height": 363
    },
    "id": "LCeO88fqS39X",
    "outputId": "e99d9db2-fc04-4f2c-b9a6-6faafd495431"
   },
   "outputs": [],
   "source": [
    "# runIF new session for analysis\n",
    "import pandas as pd\n",
    "rdfm = pd.read_csv(fn_out, index_col=0)"
   ]
  },
  {
   "cell_type": "code",
   "execution_count": null,
   "id": "c60f4ed2",
   "metadata": {},
   "outputs": [
    {
     "data": {
      "text/plain": [
       "array(['PF3D7_0102600', 'PF3D7_0102700', 'PF3D7_0102800', ...,\n",
       "       'PF3D7_1475000', 'PF3D7_API01900', 'PF3D7_API03500'], dtype='<U14')"
      ]
     },
     "execution_count": 43,
     "metadata": {},
     "output_type": "execute_result"
    }
   ],
   "source": [
    "fname = 'min_expression_2.5.txt'\n",
    "genes = np.loadtxt(fname, dtype = str)"
   ]
  },
  {
   "cell_type": "code",
   "execution_count": null,
   "id": "e7e91400",
   "metadata": {},
   "outputs": [],
   "source": [
    "# combine with DF containing site counts \n",
    "props = pd.read_csv('PlasmoDB-61_Pfalciparum3D7_AnnotatedCDSs_SynAndNonsynSiteCount.txt', sep = '\\t')\n",
    "fname = 'min_expression_2.5.txt'\n",
    "genes = np.loadtxt(fname, dtype = str)\n",
    "rdfm['ID'] = genes\n",
    "props = props.merge(rdfm, left_on='GENE', right_on='ID')\n",
    "props['coding_length_adj'] = props['TOTAL_CODING_LENGTH'] * props['value']\n",
    "# save merged file \n",
    "#props.to_csv('props_adj_breadth.txt', index=False, sep='\\t')"
   ]
  },
  {
   "cell_type": "code",
   "execution_count": null,
   "id": "9b9fab73",
   "metadata": {},
   "outputs": [
    {
     "data": {
      "text/html": [
       "<div>\n",
       "<style scoped>\n",
       "    .dataframe tbody tr th:only-of-type {\n",
       "        vertical-align: middle;\n",
       "    }\n",
       "\n",
       "    .dataframe tbody tr th {\n",
       "        vertical-align: top;\n",
       "    }\n",
       "\n",
       "    .dataframe thead th {\n",
       "        text-align: right;\n",
       "    }\n",
       "</style>\n",
       "<table border=\"1\" class=\"dataframe\">\n",
       "  <thead>\n",
       "    <tr style=\"text-align: right;\">\n",
       "      <th></th>\n",
       "      <th>GENE</th>\n",
       "      <th>TRANS</th>\n",
       "      <th>NAME</th>\n",
       "      <th>NS</th>\n",
       "      <th>SYN</th>\n",
       "      <th>FFD</th>\n",
       "      <th>TOTAL_CODING_LENGTH</th>\n",
       "      <th>PROP_NS</th>\n",
       "      <th>PROP_SYN</th>\n",
       "      <th>PROP_FFD</th>\n",
       "      <th>STOP_CODONS</th>\n",
       "      <th>FULL_LENGTH</th>\n",
       "      <th>COORD</th>\n",
       "      <th>variable</th>\n",
       "      <th>value</th>\n",
       "      <th>ID</th>\n",
       "      <th>coding_length_adj</th>\n",
       "    </tr>\n",
       "  </thead>\n",
       "  <tbody>\n",
       "    <tr>\n",
       "      <th>0</th>\n",
       "      <td>PF3D7_1312500</td>\n",
       "      <td>PF3D7_1312500.1</td>\n",
       "      <td>conserved Plasmodium protein, unknown function</td>\n",
       "      <td>146.333333</td>\n",
       "      <td>51.666667</td>\n",
       "      <td>35</td>\n",
       "      <td>198</td>\n",
       "      <td>0.739057</td>\n",
       "      <td>0.260943</td>\n",
       "      <td>0.176768</td>\n",
       "      <td>1</td>\n",
       "      <td>198</td>\n",
       "      <td>location=Pf3D7_13_v3:526863-527060(-)</td>\n",
       "      <td>1</td>\n",
       "      <td>0.920000</td>\n",
       "      <td>PF3D7_1312500</td>\n",
       "      <td>182.160000</td>\n",
       "    </tr>\n",
       "    <tr>\n",
       "      <th>1</th>\n",
       "      <td>PF3D7_1312450</td>\n",
       "      <td>PF3D7_1312450.1</td>\n",
       "      <td>apical ring associated protein 1, putative</td>\n",
       "      <td>144.000000</td>\n",
       "      <td>48.000000</td>\n",
       "      <td>33</td>\n",
       "      <td>192</td>\n",
       "      <td>0.750000</td>\n",
       "      <td>0.250000</td>\n",
       "      <td>0.171875</td>\n",
       "      <td>1</td>\n",
       "      <td>192</td>\n",
       "      <td>location=Pf3D7_13_v3:525028-525219(-)</td>\n",
       "      <td>1</td>\n",
       "      <td>0.868421</td>\n",
       "      <td>PF3D7_1312450</td>\n",
       "      <td>166.736842</td>\n",
       "    </tr>\n",
       "    <tr>\n",
       "      <th>2</th>\n",
       "      <td>PF3D7_0401800</td>\n",
       "      <td>PF3D7_0401800.1</td>\n",
       "      <td>Plasmodium exported protein (PHISTb), unknown ...</td>\n",
       "      <td>1269.500000</td>\n",
       "      <td>413.500000</td>\n",
       "      <td>288</td>\n",
       "      <td>1683</td>\n",
       "      <td>0.754308</td>\n",
       "      <td>0.245692</td>\n",
       "      <td>0.171123</td>\n",
       "      <td>1</td>\n",
       "      <td>1862</td>\n",
       "      <td>location=Pf3D7_04_v3:103742-105603(-)</td>\n",
       "      <td>4</td>\n",
       "      <td>0.764706</td>\n",
       "      <td>PF3D7_0401800</td>\n",
       "      <td>1287.000000</td>\n",
       "    </tr>\n",
       "    <tr>\n",
       "      <th>3</th>\n",
       "      <td>PF3D7_0320900</td>\n",
       "      <td>PF3D7_0320900.1</td>\n",
       "      <td>histone H2A.Z</td>\n",
       "      <td>359.000000</td>\n",
       "      <td>118.000000</td>\n",
       "      <td>81</td>\n",
       "      <td>477</td>\n",
       "      <td>0.752621</td>\n",
       "      <td>0.247379</td>\n",
       "      <td>0.169811</td>\n",
       "      <td>1</td>\n",
       "      <td>1083</td>\n",
       "      <td>location=Pf3D7_03_v3:875213-876295(+)</td>\n",
       "      <td>6</td>\n",
       "      <td>0.806818</td>\n",
       "      <td>PF3D7_0320900</td>\n",
       "      <td>384.852273</td>\n",
       "    </tr>\n",
       "    <tr>\n",
       "      <th>4</th>\n",
       "      <td>PF3D7_0516200</td>\n",
       "      <td>PF3D7_0516200.1</td>\n",
       "      <td>40S ribosomal protein S11</td>\n",
       "      <td>343.333333</td>\n",
       "      <td>112.666667</td>\n",
       "      <td>77</td>\n",
       "      <td>456</td>\n",
       "      <td>0.752924</td>\n",
       "      <td>0.247076</td>\n",
       "      <td>0.168860</td>\n",
       "      <td>1</td>\n",
       "      <td>806</td>\n",
       "      <td>location=Pf3D7_05_v3:675809-676614(-)</td>\n",
       "      <td>4</td>\n",
       "      <td>0.747253</td>\n",
       "      <td>PF3D7_0516200</td>\n",
       "      <td>340.747253</td>\n",
       "    </tr>\n",
       "  </tbody>\n",
       "</table>\n",
       "</div>"
      ],
      "text/plain": [
       "            GENE            TRANS  \\\n",
       "0  PF3D7_1312500  PF3D7_1312500.1   \n",
       "1  PF3D7_1312450  PF3D7_1312450.1   \n",
       "2  PF3D7_0401800  PF3D7_0401800.1   \n",
       "3  PF3D7_0320900  PF3D7_0320900.1   \n",
       "4  PF3D7_0516200  PF3D7_0516200.1   \n",
       "\n",
       "                                                NAME           NS         SYN  \\\n",
       "0     conserved Plasmodium protein, unknown function   146.333333   51.666667   \n",
       "1         apical ring associated protein 1, putative   144.000000   48.000000   \n",
       "2  Plasmodium exported protein (PHISTb), unknown ...  1269.500000  413.500000   \n",
       "3                                      histone H2A.Z   359.000000  118.000000   \n",
       "4                          40S ribosomal protein S11   343.333333  112.666667   \n",
       "\n",
       "   FFD  TOTAL_CODING_LENGTH   PROP_NS  PROP_SYN  PROP_FFD  STOP_CODONS  \\\n",
       "0   35                  198  0.739057  0.260943  0.176768            1   \n",
       "1   33                  192  0.750000  0.250000  0.171875            1   \n",
       "2  288                 1683  0.754308  0.245692  0.171123            1   \n",
       "3   81                  477  0.752621  0.247379  0.169811            1   \n",
       "4   77                  456  0.752924  0.247076  0.168860            1   \n",
       "\n",
       "   FULL_LENGTH                                  COORD  variable     value  \\\n",
       "0          198  location=Pf3D7_13_v3:526863-527060(-)         1  0.920000   \n",
       "1          192  location=Pf3D7_13_v3:525028-525219(-)         1  0.868421   \n",
       "2         1862  location=Pf3D7_04_v3:103742-105603(-)         4  0.764706   \n",
       "3         1083  location=Pf3D7_03_v3:875213-876295(+)         6  0.806818   \n",
       "4          806  location=Pf3D7_05_v3:675809-676614(-)         4  0.747253   \n",
       "\n",
       "              ID  coding_length_adj  \n",
       "0  PF3D7_1312500         182.160000  \n",
       "1  PF3D7_1312450         166.736842  \n",
       "2  PF3D7_0401800        1287.000000  \n",
       "3  PF3D7_0320900         384.852273  \n",
       "4  PF3D7_0516200         340.747253  "
      ]
     },
     "execution_count": 41,
     "metadata": {},
     "output_type": "execute_result"
    }
   ],
   "source": [
    "props = pd.read_csv(\"props_adj_breadth.txt\", sep='\\t') # example output--with preliminary breadth labels in \"variable\" column\n",
    "props.head()"
   ]
  }
 ],
 "metadata": {
  "colab": {
   "provenance": []
  },
  "kernelspec": {
   "display_name": "base",
   "language": "python",
   "name": "python3"
  },
  "language_info": {
   "codemirror_mode": {
    "name": "ipython",
    "version": 3
   },
   "file_extension": ".py",
   "mimetype": "text/x-python",
   "name": "python",
   "nbconvert_exporter": "python",
   "pygments_lexer": "ipython3",
   "version": "3.9.16"
  }
 },
 "nbformat": 4,
 "nbformat_minor": 5
}
